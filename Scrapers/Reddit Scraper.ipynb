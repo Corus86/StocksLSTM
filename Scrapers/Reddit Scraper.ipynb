{
 "cells": [
  {
   "cell_type": "code",
   "execution_count": 24,
   "id": "pediatric-reward",
   "metadata": {},
   "outputs": [],
   "source": [
    "\n",
    "import praw\n",
    "import pandas as pd\n",
    "import tweepy\n",
    "import datetime as dt\n",
    "import nltk\n",
    "from textblob import TextBlob\n",
    "from collections import Counter\n",
    "from nltk.stem.wordnet import WordNetLemmatizer\n",
    "from nltk.corpus import twitter_samples, stopwords\n",
    "from nltk.tag import pos_tag\n",
    "from nltk.tokenize import word_tokenize\n",
    "from nltk import FreqDist, classify, NaiveBayesClassifier\n",
    "import re, string, random\n"
   ]
  },
  {
   "cell_type": "code",
   "execution_count": 49,
   "metadata": {},
   "outputs": [],
   "source": [
    "def scraper(username):\n",
    "    begin_date = dt.date(2016,8,1)\n",
    "    end_date = dt.date(2021,7,30)\n",
    "    my_client_id = 'moLC0SeOcO9ESGvUGHz45Q'\n",
    "    my_client_secret = 'inczNAi7j2a6zV_Yl9JWvDR3HpMsbQ'\n",
    "    my_user_agent = 'Keyword_Searcher'\n",
    "    username = 'Tough-Ad-7269'\n",
    "    password = 'Shark123@'\n",
    "\n",
    "    lst = []\n",
    "    hot_posts = reddit.subreddit('stocks').hot(limit=10000)\n",
    "    for post in hot_posts:\n",
    "        if any([i in post.title for i in comp]):\n",
    "            lst.append([post.title,post.score])\n",
    "    \n",
    "    return lst\n",
    "        \n",
    "    \n",
    "        "
   ]
  },
  {
   "cell_type": "code",
   "execution_count": 50,
   "metadata": {},
   "outputs": [],
   "source": [
    "df = pd.read_csv('Subreddits.csv')\n",
    "company = pd.read_csv('Company.csv')\n",
    "comp = [company.iloc[i][0].split('\\t')[0] for i in range(company.shape[0])]"
   ]
  },
  {
   "cell_type": "code",
   "execution_count": 51,
   "metadata": {},
   "outputs": [],
   "source": [
    "name = [df.iloc[i][0] for i in range(df.shape[0])]"
   ]
  },
  {
   "cell_type": "code",
   "execution_count": 52,
   "metadata": {},
   "outputs": [],
   "source": [
    "lst = []\n",
    "for i in name:\n",
    "    lst.append(scraper(i))"
   ]
  },
  {
   "cell_type": "code",
   "execution_count": 54,
   "metadata": {},
   "outputs": [],
   "source": [
    "all_p = [i for i in lst]"
   ]
  },
  {
   "cell_type": "code",
   "execution_count": 62,
   "metadata": {},
   "outputs": [],
   "source": [
    "master = []\n",
    "for i in range(len(all_p)):\n",
    "    for j in range(len(all_p[i])):\n",
    "        master.append(all_p[i][j])"
   ]
  },
  {
   "cell_type": "code",
   "execution_count": 70,
   "metadata": {},
   "outputs": [
    {
     "data": {
      "text/plain": [
       "['Apple', 'Cisco', 'Amazon', 'Facebook', 'Sony', 'Google']"
      ]
     },
     "execution_count": 70,
     "metadata": {},
     "output_type": "execute_result"
    }
   ],
   "source": [
    "comp"
   ]
  },
  {
   "cell_type": "code",
   "execution_count": 75,
   "metadata": {},
   "outputs": [
    {
     "data": {
      "text/plain": [
       "[['nVidia and Tesla combined are now worth more than Google', 182],\n",
       " ['Does Apple buy peloton?', 0],\n",
       " ['Meta (FB), Apple, and the metaverse', 0],\n",
       " ['Meta verse and why Facebook will be the most valuable company in the world.',\n",
       "  0],\n",
       " ['Google VS Meta VS Microsoft VS Apple', 8],\n",
       " ['The \"decline\" of Facebook is a lie by the media. (And why the pivot into the Metaverse was smart)',\n",
       "  15],\n",
       " ['Amazon plans to launch first internet satellites in late 2022', 26],\n",
       " ['Should Amazon Change Their Name?', 0],\n",
       " ['Amazon hired 628,000 people but is still short staffed', 332],\n",
       " ['Here’s the math for Tesla’s stock price if it becomes the Apple of car makers',\n",
       "  0],\n",
       " ['nVidia and Tesla combined are now worth more than Google', 185],\n",
       " ['Does Apple buy peloton?', 0],\n",
       " ['Meta (FB), Apple, and the metaverse', 2],\n",
       " ['Meta verse and why Facebook will be the most valuable company in the world.',\n",
       "  0],\n",
       " ['Google VS Meta VS Microsoft VS Apple', 5],\n",
       " ['The \"decline\" of Facebook is a lie by the media. (And why the pivot into the Metaverse was smart)',\n",
       "  15],\n",
       " ['Amazon plans to launch first internet satellites in late 2022', 31],\n",
       " ['Should Amazon Change Their Name?', 0],\n",
       " ['Amazon hired 628,000 people but is still short staffed', 335],\n",
       " ['Here’s the math for Tesla’s stock price if it becomes the Apple of car makers',\n",
       "  0],\n",
       " ['nVidia and Tesla combined are now worth more than Google', 181],\n",
       " ['Does Apple buy peloton?', 0],\n",
       " ['Meta (FB), Apple, and the metaverse', 0],\n",
       " ['Meta verse and why Facebook will be the most valuable company in the world.',\n",
       "  0],\n",
       " ['Google VS Meta VS Microsoft VS Apple', 7],\n",
       " ['The \"decline\" of Facebook is a lie by the media. (And why the pivot into the Metaverse was smart)',\n",
       "  19],\n",
       " ['Amazon plans to launch first internet satellites in late 2022', 32],\n",
       " ['Should Amazon Change Their Name?', 0],\n",
       " ['Amazon hired 628,000 people but is still short staffed', 338],\n",
       " ['Here’s the math for Tesla’s stock price if it becomes the Apple of car makers',\n",
       "  0],\n",
       " ['nVidia and Tesla combined are now worth more than Google', 182],\n",
       " ['Does Apple buy peloton?', 0],\n",
       " ['Meta (FB), Apple, and the metaverse', 2],\n",
       " ['Meta verse and why Facebook will be the most valuable company in the world.',\n",
       "  0],\n",
       " ['Google VS Meta VS Microsoft VS Apple', 8],\n",
       " ['The \"decline\" of Facebook is a lie by the media. (And why the pivot into the Metaverse was smart)',\n",
       "  17],\n",
       " ['Amazon plans to launch first internet satellites in late 2022', 25],\n",
       " ['Should Amazon Change Their Name?', 0],\n",
       " ['Amazon hired 628,000 people but is still short staffed', 334],\n",
       " ['Here’s the math for Tesla’s stock price if it becomes the Apple of car makers',\n",
       "  0],\n",
       " ['nVidia and Tesla combined are now worth more than Google', 186],\n",
       " ['Does Apple buy peloton?', 0],\n",
       " ['Meta (FB), Apple, and the metaverse', 3],\n",
       " ['Meta verse and why Facebook will be the most valuable company in the world.',\n",
       "  0],\n",
       " ['Google VS Meta VS Microsoft VS Apple', 9],\n",
       " ['The \"decline\" of Facebook is a lie by the media. (And why the pivot into the Metaverse was smart)',\n",
       "  15],\n",
       " ['Amazon plans to launch first internet satellites in late 2022', 32],\n",
       " ['Should Amazon Change Their Name?', 0],\n",
       " ['Amazon hired 628,000 people but is still short staffed', 333],\n",
       " ['Here’s the math for Tesla’s stock price if it becomes the Apple of car makers',\n",
       "  0],\n",
       " ['nVidia and Tesla combined are now worth more than Google', 185],\n",
       " ['Does Apple buy peloton?', 0],\n",
       " ['Meta (FB), Apple, and the metaverse', 1],\n",
       " ['Meta verse and why Facebook will be the most valuable company in the world.',\n",
       "  0],\n",
       " ['Google VS Meta VS Microsoft VS Apple', 6],\n",
       " ['The \"decline\" of Facebook is a lie by the media. (And why the pivot into the Metaverse was smart)',\n",
       "  18],\n",
       " ['Amazon plans to launch first internet satellites in late 2022', 30],\n",
       " ['Should Amazon Change Their Name?', 0],\n",
       " ['Amazon hired 628,000 people but is still short staffed', 337],\n",
       " ['Here’s the math for Tesla’s stock price if it becomes the Apple of car makers',\n",
       "  0],\n",
       " ['nVidia and Tesla combined are now worth more than Google', 186],\n",
       " ['Does Apple buy peloton?', 0],\n",
       " ['Meta (FB), Apple, and the metaverse', 0],\n",
       " ['Meta verse and why Facebook will be the most valuable company in the world.',\n",
       "  0],\n",
       " ['Google VS Meta VS Microsoft VS Apple', 7],\n",
       " ['The \"decline\" of Facebook is a lie by the media. (And why the pivot into the Metaverse was smart)',\n",
       "  19],\n",
       " ['Amazon plans to launch first internet satellites in late 2022', 27],\n",
       " ['Should Amazon Change Their Name?', 0],\n",
       " ['Amazon hired 628,000 people but is still short staffed', 332],\n",
       " ['Here’s the math for Tesla’s stock price if it becomes the Apple of car makers',\n",
       "  0]]"
      ]
     },
     "execution_count": 75,
     "metadata": {},
     "output_type": "execute_result"
    }
   ],
   "source": [
    "master"
   ]
  },
  {
   "cell_type": "code",
   "execution_count": 76,
   "metadata": {},
   "outputs": [],
   "source": [
    "col = ['Post', 'Score']\n",
    "master = pd.DataFrame(columns=col)"
   ]
  },
  {
   "cell_type": "code",
   "execution_count": 87,
   "metadata": {},
   "outputs": [
    {
     "data": {
      "text/plain": [
       "str"
      ]
     },
     "execution_count": 87,
     "metadata": {},
     "output_type": "execute_result"
    }
   ],
   "source": [
    "(lst[0][0][0])"
   ]
  },
  {
   "cell_type": "code",
   "execution_count": 91,
   "metadata": {},
   "outputs": [
    {
     "name": "stdout",
     "output_type": "stream",
     "text": [
      "['nVidia and Tesla combined are now worth more than Google', 182]\n",
      "['Does Apple buy peloton?', 0]\n",
      "['Meta (FB), Apple, and the metaverse', 0]\n",
      "['Meta verse and why Facebook will be the most valuable company in the world.', 0]\n",
      "['Google VS Meta VS Microsoft VS Apple', 8]\n",
      "['The \"decline\" of Facebook is a lie by the media. (And why the pivot into the Metaverse was smart)', 15]\n",
      "['Amazon plans to launch first internet satellites in late 2022', 26]\n",
      "['Should Amazon Change Their Name?', 0]\n",
      "['Amazon hired 628,000 people but is still short staffed', 332]\n",
      "['Here’s the math for Tesla’s stock price if it becomes the Apple of car makers', 0]\n",
      "['nVidia and Tesla combined are now worth more than Google', 185]\n",
      "['Does Apple buy peloton?', 0]\n",
      "['Meta (FB), Apple, and the metaverse', 2]\n",
      "['Meta verse and why Facebook will be the most valuable company in the world.', 0]\n",
      "['Google VS Meta VS Microsoft VS Apple', 5]\n",
      "['The \"decline\" of Facebook is a lie by the media. (And why the pivot into the Metaverse was smart)', 15]\n",
      "['Amazon plans to launch first internet satellites in late 2022', 31]\n",
      "['Should Amazon Change Their Name?', 0]\n",
      "['Amazon hired 628,000 people but is still short staffed', 335]\n",
      "['Here’s the math for Tesla’s stock price if it becomes the Apple of car makers', 0]\n",
      "['nVidia and Tesla combined are now worth more than Google', 181]\n",
      "['Does Apple buy peloton?', 0]\n",
      "['Meta (FB), Apple, and the metaverse', 0]\n",
      "['Meta verse and why Facebook will be the most valuable company in the world.', 0]\n",
      "['Google VS Meta VS Microsoft VS Apple', 7]\n",
      "['The \"decline\" of Facebook is a lie by the media. (And why the pivot into the Metaverse was smart)', 19]\n",
      "['Amazon plans to launch first internet satellites in late 2022', 32]\n",
      "['Should Amazon Change Their Name?', 0]\n",
      "['Amazon hired 628,000 people but is still short staffed', 338]\n",
      "['Here’s the math for Tesla’s stock price if it becomes the Apple of car makers', 0]\n",
      "['nVidia and Tesla combined are now worth more than Google', 182]\n",
      "['Does Apple buy peloton?', 0]\n",
      "['Meta (FB), Apple, and the metaverse', 2]\n",
      "['Meta verse and why Facebook will be the most valuable company in the world.', 0]\n",
      "['Google VS Meta VS Microsoft VS Apple', 8]\n",
      "['The \"decline\" of Facebook is a lie by the media. (And why the pivot into the Metaverse was smart)', 17]\n",
      "['Amazon plans to launch first internet satellites in late 2022', 25]\n",
      "['Should Amazon Change Their Name?', 0]\n",
      "['Amazon hired 628,000 people but is still short staffed', 334]\n",
      "['Here’s the math for Tesla’s stock price if it becomes the Apple of car makers', 0]\n",
      "['nVidia and Tesla combined are now worth more than Google', 186]\n",
      "['Does Apple buy peloton?', 0]\n",
      "['Meta (FB), Apple, and the metaverse', 3]\n",
      "['Meta verse and why Facebook will be the most valuable company in the world.', 0]\n",
      "['Google VS Meta VS Microsoft VS Apple', 9]\n",
      "['The \"decline\" of Facebook is a lie by the media. (And why the pivot into the Metaverse was smart)', 15]\n",
      "['Amazon plans to launch first internet satellites in late 2022', 32]\n",
      "['Should Amazon Change Their Name?', 0]\n",
      "['Amazon hired 628,000 people but is still short staffed', 333]\n",
      "['Here’s the math for Tesla’s stock price if it becomes the Apple of car makers', 0]\n",
      "['nVidia and Tesla combined are now worth more than Google', 185]\n",
      "['Does Apple buy peloton?', 0]\n",
      "['Meta (FB), Apple, and the metaverse', 1]\n",
      "['Meta verse and why Facebook will be the most valuable company in the world.', 0]\n",
      "['Google VS Meta VS Microsoft VS Apple', 6]\n",
      "['The \"decline\" of Facebook is a lie by the media. (And why the pivot into the Metaverse was smart)', 18]\n",
      "['Amazon plans to launch first internet satellites in late 2022', 30]\n",
      "['Should Amazon Change Their Name?', 0]\n",
      "['Amazon hired 628,000 people but is still short staffed', 337]\n",
      "['Here’s the math for Tesla’s stock price if it becomes the Apple of car makers', 0]\n",
      "['nVidia and Tesla combined are now worth more than Google', 186]\n",
      "['Does Apple buy peloton?', 0]\n",
      "['Meta (FB), Apple, and the metaverse', 0]\n",
      "['Meta verse and why Facebook will be the most valuable company in the world.', 0]\n",
      "['Google VS Meta VS Microsoft VS Apple', 7]\n",
      "['The \"decline\" of Facebook is a lie by the media. (And why the pivot into the Metaverse was smart)', 19]\n",
      "['Amazon plans to launch first internet satellites in late 2022', 27]\n",
      "['Should Amazon Change Their Name?', 0]\n",
      "['Amazon hired 628,000 people but is still short staffed', 332]\n",
      "['Here’s the math for Tesla’s stock price if it becomes the Apple of car makers', 0]\n"
     ]
    }
   ],
   "source": [
    "post = []\n",
    "score = []\n",
    "for i in range(len(lst)):\n",
    "    for j in range(len(lst[i])):\n",
    "        print(lst[i][j])\n",
    "        post.append(lst[i][j][0])\n",
    "        score.append(lst[i][j][1])"
   ]
  },
  {
   "cell_type": "code",
   "execution_count": 97,
   "metadata": {},
   "outputs": [],
   "source": [
    "masted = pd.DataFrame()\n",
    "master['Post'] =post\n",
    "master['Score'] = score"
   ]
  },
  {
   "cell_type": "code",
   "execution_count": 99,
   "metadata": {},
   "outputs": [],
   "source": [
    "master.to_csv('Reddit.csv')"
   ]
  },
  {
   "cell_type": "code",
   "execution_count": 100,
   "metadata": {},
   "outputs": [],
   "source": [
    "import pandas as pd\n",
    "import tweepy\n",
    "import datetime as dt\n",
    "import nltk\n",
    "import matplotlib as plt\n",
    "from textblob import TextBlob\n",
    "from nltk.stem.wordnet import WordNetLemmatizer\n",
    "from nltk.tag import pos_tag\n",
    "from nltk import FreqDist, classify, NaiveBayesClassifier\n",
    "import re, string, random\n",
    "import numpy as np\n",
    "import nltk\n",
    "import gensim\n",
    "from collections import Counter\n",
    "from nltk.stem.wordnet import WordNetLemmatizer\n",
    "from nltk.stem import PorterStemmer\n",
    "from nltk.stem import LancasterStemmer\n",
    "from nltk.corpus import twitter_samples, stopwords\n",
    "from nltk.tokenize import word_tokenize\n",
    "from nltk import FreqDist, classify, NaiveBayesClassifier\n",
    "import re, string, random\n",
    "from sklearn.feature_extraction.text import CountVectorizer\n",
    "from sklearn.linear_model import LogisticRegression\n",
    "from nltk.sentiment.vader import SentimentIntensityAnalyzer\n",
    "from dateutil.parser import parser"
   ]
  },
  {
   "cell_type": "code",
   "execution_count": 103,
   "metadata": {},
   "outputs": [],
   "source": [
    "def Vader(df):\n",
    "    #updating\n",
    "    nltk.download('vader_lexicon')\n",
    "    \n",
    "    #Initializing Sentiment Analysis of VADER\n",
    "    sid = SentimentIntensityAnalyzer()\n",
    "    \n",
    "    #Filling Nulls\n",
    "    df = df.fillna('')\n",
    "    \n",
    "    #Analysis\n",
    "    df['Vader'] = df['Post'].apply(lambda cleaned: sid.polarity_scores(cleaned))\n",
    "    df['compound']  = df['Vader'].apply(lambda score_dict: score_dict['compound'])\n",
    "    df['comp_score'] = df['compound'].apply(lambda c: 'pos' if c >=0 else 'neg')\n",
    "    \n",
    "    #Overall Result\n",
    "    \n",
    "    #pos\n",
    "    try:\n",
    "        pos = df.get('comp_score').value_counts()[0]\n",
    "    except IndexError as e:\n",
    "        pos = 0\n",
    "    \n",
    "    #neg\n",
    "    try:\n",
    "        neg = df.get('comp_score').value_counts()[1]\n",
    "    except IndexError as e:\n",
    "        neg = 0\n",
    "\n",
    "    #Printing\n",
    "    print('Positive Percentage : ', pos/(pos+neg)*100)\n",
    "    print('Negative Percentage : ', neg/(pos+neg)*100)\n",
    "    \n",
    "    print(df.get('comp_score').value_counts().plot(kind='bar'))\n",
    "    \n",
    "    return df"
   ]
  },
  {
   "cell_type": "code",
   "execution_count": 104,
   "metadata": {},
   "outputs": [
    {
     "name": "stderr",
     "output_type": "stream",
     "text": [
      "[nltk_data] Downloading package vader_lexicon to\n",
      "[nltk_data]     /Users/divyamrana/nltk_data...\n",
      "[nltk_data]   Package vader_lexicon is already up-to-date!\n"
     ]
    },
    {
     "name": "stdout",
     "output_type": "stream",
     "text": [
      "Positive Percentage :  100.0\n",
      "Negative Percentage :  0.0\n",
      "AxesSubplot(0.125,0.125;0.775x0.755)\n"
     ]
    },
    {
     "data": {
      "image/png": "[encoded data removed]",
      "text/plain": [
       "<Figure size 432x288 with 1 Axes>"
      ]
     },
     "metadata": {
      "needs_background": "light"
     },
     "output_type": "display_data"
    }
   ],
   "source": [
    "res = Vader(master)"
   ]
  },
  {
   "cell_type": "code",
   "execution_count": null,
   "metadata": {},
   "outputs": [],
   "source": []
  }
 ],
 "metadata": {
  "interpreter": {
   "hash": "31f2aee4e71d21fbe5cf8b01ff0e069b9275f58929596ceb00d14d90e3e16cd6"
  },
  "kernelspec": {
   "display_name": "Python 3.8.2 64-bit",
   "name": "python3"
  },
  "language_info": {
   "codemirror_mode": {
    "name": "ipython",
    "version": 3
   },
   "file_extension": ".py",
   "mimetype": "text/x-python",
   "name": "python",
   "nbconvert_exporter": "python",
   "pygments_lexer": "ipython3",
   "version": "3.8.2"
  }
 },
 "nbformat": 4,
 "nbformat_minor": 5
}

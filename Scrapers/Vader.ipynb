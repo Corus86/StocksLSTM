{
 "cells": [
  {
   "cell_type": "code",
   "execution_count": 116,
   "id": "composed-classics",
   "metadata": {},
   "outputs": [],
   "source": [
    "#import twitterscraper\n",
    "import praw\n",
    "import numpy as np\n",
    "import pandas as pd\n",
    "import tweepy\n",
    "import datetime as dt\n",
    "import nltk\n",
    "import gensim\n",
    "from textblob import TextBlob\n",
    "from collections import Counter\n",
    "from nltk.stem.wordnet import WordNetLemmatizer\n",
    "from nltk.stem import PorterStemmer\n",
    "from nltk.stem import LancasterStemmer\n",
    "from nltk.corpus import twitter_samples, stopwords\n",
    "from nltk.tag import pos_tag\n",
    "from nltk.tokenize import word_tokenize\n",
    "from nltk import FreqDist, classify, NaiveBayesClassifier\n",
    "import re, string, random\n",
    "from sklearn.feature_extraction.text import CountVectorizer\n",
    "from sklearn.linear_model import LogisticRegression\n",
    "from nltk.sentiment.vader import SentimentIntensityAnalyzer"
   ]
  },
  {
   "cell_type": "code",
   "execution_count": 2,
   "id": "least-magnitude",
   "metadata": {},
   "outputs": [
    {
     "name": "stderr",
     "output_type": "stream",
     "text": [
      "[nltk_data] Downloading package vader_lexicon to\n",
      "[nltk_data]     /Users/divyamrana/nltk_data...\n"
     ]
    },
    {
     "data": {
      "text/plain": [
       "True"
      ]
     },
     "execution_count": 2,
     "metadata": {},
     "output_type": "execute_result"
    }
   ],
   "source": [
    "nltk.download('vader_lexicon')"
   ]
  },
  {
   "cell_type": "code",
   "execution_count": 3,
   "id": "innocent-racing",
   "metadata": {},
   "outputs": [],
   "source": [
    "sid = SentimentIntensityAnalyzer()"
   ]
  },
  {
   "cell_type": "code",
   "execution_count": 137,
   "id": "modified-compiler",
   "metadata": {},
   "outputs": [],
   "source": [
    "df = pd.read_csv('/Users/divyamrana/Documents/Research Data/Training dataset/cleaned_training.csv', encoding='latin-1')"
   ]
  },
  {
   "cell_type": "code",
   "execution_count": 138,
   "id": "operating-heater",
   "metadata": {},
   "outputs": [
    {
     "data": {
      "text/plain": [
       "4    800000\n",
       "0    799999\n",
       "Name: Emotion Score, dtype: int64"
      ]
     },
     "execution_count": 138,
     "metadata": {},
     "output_type": "execute_result"
    }
   ],
   "source": [
    "df.get('Emotion Score').value_counts()"
   ]
  },
  {
   "cell_type": "code",
   "execution_count": 139,
   "id": "short-skirt",
   "metadata": {},
   "outputs": [],
   "source": [
    "df = df.sample(frac=1)\n",
    "df = df.head(3000)"
   ]
  },
  {
   "cell_type": "code",
   "execution_count": 140,
   "id": "phantom-macro",
   "metadata": {},
   "outputs": [
    {
     "data": {
      "text/plain": [
       "3000"
      ]
     },
     "execution_count": 140,
     "metadata": {},
     "output_type": "execute_result"
    }
   ],
   "source": [
    "df.shape[0]"
   ]
  },
  {
   "cell_type": "code",
   "execution_count": 141,
   "id": "invalid-relationship",
   "metadata": {},
   "outputs": [],
   "source": [
    "df = df.fillna('')\n",
    "df = df[df.get('cleaned_text') != '']"
   ]
  },
  {
   "cell_type": "code",
   "execution_count": 142,
   "id": "enclosed-check",
   "metadata": {},
   "outputs": [],
   "source": [
    "df['Vader'] = df['Tweet'].apply(lambda cleaned: sid.polarity_scores(cleaned))"
   ]
  },
  {
   "cell_type": "code",
   "execution_count": 143,
   "id": "confused-emergency",
   "metadata": {},
   "outputs": [],
   "source": [
    "df['compound']  = df['Vader'].apply(lambda score_dict: score_dict['compound'])"
   ]
  },
  {
   "cell_type": "code",
   "execution_count": 144,
   "id": "opened-invasion",
   "metadata": {},
   "outputs": [],
   "source": [
    "df['comp_score'] = df['compound'].apply(lambda c: 'pos' if c >=0 else 'neg')"
   ]
  },
  {
   "cell_type": "code",
   "execution_count": 145,
   "id": "assisted-cabin",
   "metadata": {},
   "outputs": [
    {
     "data": {
      "text/html": [
       "<div>\n",
       "<style scoped>\n",
       "    .dataframe tbody tr th:only-of-type {\n",
       "        vertical-align: middle;\n",
       "    }\n",
       "\n",
       "    .dataframe tbody tr th {\n",
       "        vertical-align: top;\n",
       "    }\n",
       "\n",
       "    .dataframe thead th {\n",
       "        text-align: right;\n",
       "    }\n",
       "</style>\n",
       "<table border=\"1\" class=\"dataframe\">\n",
       "  <thead>\n",
       "    <tr style=\"text-align: right;\">\n",
       "      <th></th>\n",
       "      <th>Unnamed: 0</th>\n",
       "      <th>Unnamed: 0.1</th>\n",
       "      <th>Emotion Score</th>\n",
       "      <th>Tweet</th>\n",
       "      <th>cleaned_text</th>\n",
       "      <th>Vader</th>\n",
       "      <th>compound</th>\n",
       "      <th>comp_score</th>\n",
       "    </tr>\n",
       "  </thead>\n",
       "  <tbody>\n",
       "    <tr>\n",
       "      <th>581415</th>\n",
       "      <td>581415</td>\n",
       "      <td>581415</td>\n",
       "      <td>0</td>\n",
       "      <td>Ughh these double days blow.. Too bad it goes ...</td>\n",
       "      <td>ughh double days blow too bad goes summer</td>\n",
       "      <td>{'neg': 0.241, 'neu': 0.759, 'pos': 0.0, 'comp...</td>\n",
       "      <td>-0.5423</td>\n",
       "      <td>neg</td>\n",
       "    </tr>\n",
       "    <tr>\n",
       "      <th>864536</th>\n",
       "      <td>864536</td>\n",
       "      <td>864536</td>\n",
       "      <td>4</td>\n",
       "      <td>good morning my dear friends! and what a lovel...</td>\n",
       "      <td>good morning dear friends lovely day too sunny...</td>\n",
       "      <td>{'neg': 0.0, 'neu': 0.452, 'pos': 0.548, 'comp...</td>\n",
       "      <td>0.9531</td>\n",
       "      <td>pos</td>\n",
       "    </tr>\n",
       "    <tr>\n",
       "      <th>468507</th>\n",
       "      <td>468507</td>\n",
       "      <td>468507</td>\n",
       "      <td>0</td>\n",
       "      <td>@SandiMon its a never ending cycle with our ki...</td>\n",
       "      <td>ending cycle kids winter better week starting ...</td>\n",
       "      <td>{'neg': 0.0, 'neu': 0.879, 'pos': 0.121, 'comp...</td>\n",
       "      <td>0.4404</td>\n",
       "      <td>pos</td>\n",
       "    </tr>\n",
       "    <tr>\n",
       "      <th>1460087</th>\n",
       "      <td>1460087</td>\n",
       "      <td>1460087</td>\n",
       "      <td>4</td>\n",
       "      <td>@shiftin so we usually chat about the practice...</td>\n",
       "      <td>usually chat practices tools but it s approach...</td>\n",
       "      <td>{'neg': 0.0, 'neu': 1.0, 'pos': 0.0, 'compound...</td>\n",
       "      <td>0.0000</td>\n",
       "      <td>pos</td>\n",
       "    </tr>\n",
       "    <tr>\n",
       "      <th>1019087</th>\n",
       "      <td>1019087</td>\n",
       "      <td>1019087</td>\n",
       "      <td>4</td>\n",
       "      <td>@b50 @gulpanag is 100% genuine.. pata chal jat...</td>\n",
       "      <td>genuine pata chal jata hai n yes reply too</td>\n",
       "      <td>{'neg': 0.0, 'neu': 0.798, 'pos': 0.202, 'comp...</td>\n",
       "      <td>0.5080</td>\n",
       "      <td>pos</td>\n",
       "    </tr>\n",
       "    <tr>\n",
       "      <th>...</th>\n",
       "      <td>...</td>\n",
       "      <td>...</td>\n",
       "      <td>...</td>\n",
       "      <td>...</td>\n",
       "      <td>...</td>\n",
       "      <td>...</td>\n",
       "      <td>...</td>\n",
       "      <td>...</td>\n",
       "    </tr>\n",
       "    <tr>\n",
       "      <th>157380</th>\n",
       "      <td>157380</td>\n",
       "      <td>157380</td>\n",
       "      <td>0</td>\n",
       "      <td>has headache and stomachache</td>\n",
       "      <td>headache stomachache</td>\n",
       "      <td>{'neg': 0.0, 'neu': 1.0, 'pos': 0.0, 'compound...</td>\n",
       "      <td>0.0000</td>\n",
       "      <td>pos</td>\n",
       "    </tr>\n",
       "    <tr>\n",
       "      <th>346384</th>\n",
       "      <td>346384</td>\n",
       "      <td>346384</td>\n",
       "      <td>0</td>\n",
       "      <td>morning early birds. on the way to work on an ...</td>\n",
       "      <td>morning early birds way work stomache gonna long</td>\n",
       "      <td>{'neg': 0.101, 'neu': 0.899, 'pos': 0.0, 'comp...</td>\n",
       "      <td>-0.2023</td>\n",
       "      <td>neg</td>\n",
       "    </tr>\n",
       "    <tr>\n",
       "      <th>1412250</th>\n",
       "      <td>1412250</td>\n",
       "      <td>1412250</td>\n",
       "      <td>4</td>\n",
       "      <td>@T_Billa It sounds like you have your work cut...</td>\n",
       "      <td>it sounds like work cut you i know achieve att...</td>\n",
       "      <td>{'neg': 0.101, 'neu': 0.766, 'pos': 0.134, 'co...</td>\n",
       "      <td>0.1759</td>\n",
       "      <td>pos</td>\n",
       "    </tr>\n",
       "    <tr>\n",
       "      <th>902417</th>\n",
       "      <td>902417</td>\n",
       "      <td>902417</td>\n",
       "      <td>4</td>\n",
       "      <td>@Karen230683 good good!!</td>\n",
       "      <td>good good</td>\n",
       "      <td>{'neg': 0.0, 'neu': 0.135, 'pos': 0.865, 'comp...</td>\n",
       "      <td>0.7494</td>\n",
       "      <td>pos</td>\n",
       "    </tr>\n",
       "    <tr>\n",
       "      <th>379372</th>\n",
       "      <td>379372</td>\n",
       "      <td>379372</td>\n",
       "      <td>0</td>\n",
       "      <td>Yet another night spent alone</td>\n",
       "      <td>yet night spent</td>\n",
       "      <td>{'neg': 0.333, 'neu': 0.667, 'pos': 0.0, 'comp...</td>\n",
       "      <td>-0.2500</td>\n",
       "      <td>neg</td>\n",
       "    </tr>\n",
       "  </tbody>\n",
       "</table>\n",
       "<p>2987 rows × 8 columns</p>\n",
       "</div>"
      ],
      "text/plain": [
       "         Unnamed: 0  Unnamed: 0.1  Emotion Score  \\\n",
       "581415       581415        581415              0   \n",
       "864536       864536        864536              4   \n",
       "468507       468507        468507              0   \n",
       "1460087     1460087       1460087              4   \n",
       "1019087     1019087       1019087              4   \n",
       "...             ...           ...            ...   \n",
       "157380       157380        157380              0   \n",
       "346384       346384        346384              0   \n",
       "1412250     1412250       1412250              4   \n",
       "902417       902417        902417              4   \n",
       "379372       379372        379372              0   \n",
       "\n",
       "                                                     Tweet  \\\n",
       "581415   Ughh these double days blow.. Too bad it goes ...   \n",
       "864536   good morning my dear friends! and what a lovel...   \n",
       "468507   @SandiMon its a never ending cycle with our ki...   \n",
       "1460087  @shiftin so we usually chat about the practice...   \n",
       "1019087  @b50 @gulpanag is 100% genuine.. pata chal jat...   \n",
       "...                                                    ...   \n",
       "157380                       has headache and stomachache    \n",
       "346384   morning early birds. on the way to work on an ...   \n",
       "1412250  @T_Billa It sounds like you have your work cut...   \n",
       "902417                           @Karen230683 good good!!    \n",
       "379372                      Yet another night spent alone    \n",
       "\n",
       "                                              cleaned_text  \\\n",
       "581415          ughh double days blow too bad goes summer    \n",
       "864536   good morning dear friends lovely day too sunny...   \n",
       "468507   ending cycle kids winter better week starting ...   \n",
       "1460087  usually chat practices tools but it s approach...   \n",
       "1019087        genuine pata chal jata hai n yes reply too    \n",
       "...                                                    ...   \n",
       "157380                                headache stomachache   \n",
       "346384    morning early birds way work stomache gonna long   \n",
       "1412250  it sounds like work cut you i know achieve att...   \n",
       "902417                                          good good    \n",
       "379372                                     yet night spent   \n",
       "\n",
       "                                                     Vader  compound  \\\n",
       "581415   {'neg': 0.241, 'neu': 0.759, 'pos': 0.0, 'comp...   -0.5423   \n",
       "864536   {'neg': 0.0, 'neu': 0.452, 'pos': 0.548, 'comp...    0.9531   \n",
       "468507   {'neg': 0.0, 'neu': 0.879, 'pos': 0.121, 'comp...    0.4404   \n",
       "1460087  {'neg': 0.0, 'neu': 1.0, 'pos': 0.0, 'compound...    0.0000   \n",
       "1019087  {'neg': 0.0, 'neu': 0.798, 'pos': 0.202, 'comp...    0.5080   \n",
       "...                                                    ...       ...   \n",
       "157380   {'neg': 0.0, 'neu': 1.0, 'pos': 0.0, 'compound...    0.0000   \n",
       "346384   {'neg': 0.101, 'neu': 0.899, 'pos': 0.0, 'comp...   -0.2023   \n",
       "1412250  {'neg': 0.101, 'neu': 0.766, 'pos': 0.134, 'co...    0.1759   \n",
       "902417   {'neg': 0.0, 'neu': 0.135, 'pos': 0.865, 'comp...    0.7494   \n",
       "379372   {'neg': 0.333, 'neu': 0.667, 'pos': 0.0, 'comp...   -0.2500   \n",
       "\n",
       "        comp_score  \n",
       "581415         neg  \n",
       "864536         pos  \n",
       "468507         pos  \n",
       "1460087        pos  \n",
       "1019087        pos  \n",
       "...            ...  \n",
       "157380         pos  \n",
       "346384         neg  \n",
       "1412250        pos  \n",
       "902417         pos  \n",
       "379372         neg  \n",
       "\n",
       "[2987 rows x 8 columns]"
      ]
     },
     "execution_count": 145,
     "metadata": {},
     "output_type": "execute_result"
    }
   ],
   "source": [
    "df"
   ]
  },
  {
   "cell_type": "code",
   "execution_count": 146,
   "id": "honey-drawing",
   "metadata": {},
   "outputs": [
    {
     "data": {
      "text/plain": [
       "0    1530\n",
       "4    1457\n",
       "Name: Emotion Score, dtype: int64"
      ]
     },
     "execution_count": 146,
     "metadata": {},
     "output_type": "execute_result"
    }
   ],
   "source": [
    "df.get('Emotion Score').value_counts()"
   ]
  },
  {
   "cell_type": "code",
   "execution_count": 147,
   "id": "racial-terry",
   "metadata": {},
   "outputs": [],
   "source": [
    "def prec(vader, original):\n",
    "    if (original == 4) & (vader == 'pos'):\n",
    "        return True\n",
    "    elif (original == 0) & (vader == 'neg'):\n",
    "        return True\n",
    "    else:\n",
    "        return False\n",
    "    "
   ]
  },
  {
   "cell_type": "code",
   "execution_count": 148,
   "id": "appropriate-channel",
   "metadata": {},
   "outputs": [
    {
     "data": {
      "text/plain": [
       "False"
      ]
     },
     "execution_count": 148,
     "metadata": {},
     "output_type": "execute_result"
    }
   ],
   "source": [
    "prec('pos', 0)"
   ]
  },
  {
   "cell_type": "code",
   "execution_count": 149,
   "id": "little-visit",
   "metadata": {},
   "outputs": [],
   "source": [
    "x = np.vectorize(prec)(df['comp_score'], df['Emotion Score'])"
   ]
  },
  {
   "cell_type": "code",
   "execution_count": 150,
   "id": "champion-monte",
   "metadata": {},
   "outputs": [],
   "source": [
    "x = pd.Series(x)"
   ]
  },
  {
   "cell_type": "code",
   "execution_count": 154,
   "id": "included-future",
   "metadata": {},
   "outputs": [
    {
     "data": {
      "text/plain": [
       "True     1963\n",
       "False    1024\n",
       "dtype: int64"
      ]
     },
     "execution_count": 154,
     "metadata": {},
     "output_type": "execute_result"
    }
   ],
   "source": [
    "x.value_counts()"
   ]
  },
  {
   "cell_type": "code",
   "execution_count": 155,
   "id": "mineral-curtis",
   "metadata": {},
   "outputs": [
    {
     "data": {
      "text/plain": [
       "0.6571811181787747"
      ]
     },
     "execution_count": 155,
     "metadata": {},
     "output_type": "execute_result"
    }
   ],
   "source": [
    "x.value_counts()[1] / (x.value_counts()[0] + x.value_counts()[1])"
   ]
  },
  {
   "cell_type": "code",
   "execution_count": null,
   "id": "greenhouse-stack",
   "metadata": {},
   "outputs": [],
   "source": []
  }
 ],
 "metadata": {
  "kernelspec": {
   "display_name": "Python 3",
   "language": "python",
   "name": "python3"
  },
  "language_info": {
   "codemirror_mode": {
    "name": "ipython",
    "version": 3
   },
   "file_extension": ".py",
   "mimetype": "text/x-python",
   "name": "python",
   "nbconvert_exporter": "python",
   "pygments_lexer": "ipython3",
   "version": "3.8.2"
  }
 },
 "nbformat": 4,
 "nbformat_minor": 5
}

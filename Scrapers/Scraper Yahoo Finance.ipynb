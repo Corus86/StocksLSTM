{
 "cells": [
  {
   "cell_type": "code",
   "execution_count": 15,
   "metadata": {},
   "outputs": [],
   "source": [
    "import pandas as pd\n",
    "import numpy as np\n",
    "from yahoofinancials import YahooFinancials"
   ]
  },
  {
   "cell_type": "code",
   "execution_count": 16,
   "metadata": {},
   "outputs": [],
   "source": [
    "#start_date = 'yyyy-mm-dd'\n",
    "\n",
    "def yahoo_finance_complete(ticker, start_date, end_date, Names, freq):\n",
    "    \n",
    "    #initializing historical stock price\n",
    "    historical_stock_price = ticker\n",
    "    \n",
    "    # getting the data from yahoo!!!!!\n",
    "    for i in range(len(ticker)):\n",
    "        #initializing \n",
    "        yahoo_financials = YahooFinancials(ticker[i])\n",
    "        historical_stock_price[i]= yahoo_financials.get_historical_price_data(start_date, end_date, freq) \n",
    "        \n",
    "    # appending and creating combined database\n",
    "    Summary_db = pd.DataFrame(columns = list(historical_stock_price[0]\n",
    "                                         [list(historical_stock_price[0].keys())[0]]['prices'][0].keys())\n",
    "                         )\n",
    "\n",
    "    #outer loop for all the companies\n",
    "    for i in range(len(historical_stock_price)):\n",
    "\n",
    "        name = list(historical_stock_price[i].keys())[0]\n",
    "        print(i,name)\n",
    "\n",
    "        #inner loop for the data for a particluar company\n",
    "        for j in range(len(historical_stock_price[i][name]['prices'])):\n",
    "\n",
    "            val = historical_stock_price[i][name]['prices'][j]\n",
    "            val['Ticker'] = name\n",
    "            val['Company'] = Names[i]\n",
    "            Summary_db = Summary_db.append([val], ignore_index=True)\n",
    "\n",
    "    return Summary_db"
   ]
  },
  {
   "cell_type": "code",
   "execution_count": 17,
   "metadata": {},
   "outputs": [],
   "source": [
    "#ticker = ['FB','GOOGL','AAPL','CSCO','MSFT','INTC','NFLX','AMZN']\n",
    "#Names = ['Facebook', 'Google', 'Apple', 'Cisco', 'Microsoft', 'Intel', 'Netflix', 'Amazon']\n",
    "#start_date = '2019-08-20'\n",
    "#end_date = '2021-08-20'\n",
    "#freq = 'daily'"
   ]
  },
  {
   "cell_type": "code",
   "execution_count": 18,
   "metadata": {},
   "outputs": [],
   "source": [
    "#z = yahoo_finance_complete(ticker, start_date, end_date, Names, freq)"
   ]
  },
  {
   "cell_type": "code",
   "execution_count": 19,
   "metadata": {},
   "outputs": [
    {
     "data": {
      "text/html": [
       "<div>\n",
       "<style scoped>\n",
       "    .dataframe tbody tr th:only-of-type {\n",
       "        vertical-align: middle;\n",
       "    }\n",
       "\n",
       "    .dataframe tbody tr th {\n",
       "        vertical-align: top;\n",
       "    }\n",
       "\n",
       "    .dataframe thead th {\n",
       "        text-align: right;\n",
       "    }\n",
       "</style>\n",
       "<table border=\"1\" class=\"dataframe\">\n",
       "  <thead>\n",
       "    <tr style=\"text-align: right;\">\n",
       "      <th></th>\n",
       "      <th>Company Names\\tTicker</th>\n",
       "    </tr>\n",
       "  </thead>\n",
       "  <tbody>\n",
       "    <tr>\n",
       "      <th>0</th>\n",
       "      <td>Apple\\tAAPL</td>\n",
       "    </tr>\n",
       "    <tr>\n",
       "      <th>1</th>\n",
       "      <td>Cisco\\tCSCO</td>\n",
       "    </tr>\n",
       "    <tr>\n",
       "      <th>2</th>\n",
       "      <td>Amazon\\tAMZN</td>\n",
       "    </tr>\n",
       "    <tr>\n",
       "      <th>3</th>\n",
       "      <td>Facebook\\tFB</td>\n",
       "    </tr>\n",
       "    <tr>\n",
       "      <th>4</th>\n",
       "      <td>Sony\\tSony</td>\n",
       "    </tr>\n",
       "    <tr>\n",
       "      <th>5</th>\n",
       "      <td>Google\\tGOOGL</td>\n",
       "    </tr>\n",
       "  </tbody>\n",
       "</table>\n",
       "</div>"
      ],
      "text/plain": [
       "  Company Names\\tTicker\n",
       "0           Apple\\tAAPL\n",
       "1           Cisco\\tCSCO\n",
       "2          Amazon\\tAMZN\n",
       "3          Facebook\\tFB\n",
       "4            Sony\\tSony\n",
       "5         Google\\tGOOGL"
      ]
     },
     "execution_count": 19,
     "metadata": {},
     "output_type": "execute_result"
    }
   ],
   "source": [
    "df = pd.read_csv('Company.csv')\n",
    "df"
   ]
  },
  {
   "cell_type": "code",
   "execution_count": 23,
   "metadata": {},
   "outputs": [
    {
     "data": {
      "text/plain": [
       "['AAPL', 'CSCO', 'AMZN', 'FB', 'Sony', 'GOOGL']"
      ]
     },
     "execution_count": 23,
     "metadata": {},
     "output_type": "execute_result"
    }
   ],
   "source": [
    "[df.iloc[i][0].split('\\t')[1] for i in range(df.shape[0])]"
   ]
  },
  {
   "cell_type": "code",
   "execution_count": 28,
   "metadata": {},
   "outputs": [],
   "source": [
    "start_date = '2017-08-19'\n",
    "end_date = '2021-10-30'\n",
    "Names = [df.iloc[i][0].split('\\t')[0] for i in range(df.shape[0])]\n",
    "ticker = [df.iloc[i][0].split('\\t')[1] for i in range(df.shape[0])]\n",
    "freq = 'daily'"
   ]
  },
  {
   "cell_type": "code",
   "execution_count": 29,
   "metadata": {},
   "outputs": [
    {
     "name": "stdout",
     "output_type": "stream",
     "text": [
      "0 AAPL\n",
      "1 CSCO\n",
      "2 AMZN\n",
      "3 FB\n",
      "4 SONY\n",
      "5 GOOGL\n"
     ]
    }
   ],
   "source": [
    "Summary  = (yahoo_finance_complete(ticker, start_date, end_date, Names, freq))"
   ]
  },
  {
   "cell_type": "code",
   "execution_count": 30,
   "metadata": {},
   "outputs": [],
   "source": [
    "Summary.to_csv('Summanry_db.csv')"
   ]
  },
  {
   "cell_type": "code",
   "execution_count": null,
   "metadata": {},
   "outputs": [],
   "source": []
  },
  {
   "cell_type": "code",
   "execution_count": null,
   "metadata": {},
   "outputs": [],
   "source": []
  }
 ],
 "metadata": {
  "interpreter": {
   "hash": "31f2aee4e71d21fbe5cf8b01ff0e069b9275f58929596ceb00d14d90e3e16cd6"
  },
  "kernelspec": {
   "display_name": "Python 3.8.2 64-bit",
   "name": "python3"
  },
  "language_info": {
   "codemirror_mode": {
    "name": "ipython",
    "version": 3
   },
   "file_extension": ".py",
   "mimetype": "text/x-python",
   "name": "python",
   "nbconvert_exporter": "python",
   "pygments_lexer": "ipython3",
   "version": "3.8.2"
  }
 },
 "nbformat": 4,
 "nbformat_minor": 5
}

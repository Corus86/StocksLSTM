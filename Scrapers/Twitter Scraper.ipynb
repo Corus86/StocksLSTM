{
 "cells": [
  {
   "cell_type": "code",
   "execution_count": 1,
   "metadata": {},
   "outputs": [
    {
     "ename": "AttributeError",
     "evalue": "'NoneType' object has no attribute 'find_all'",
     "output_type": "error",
     "traceback": [
      "\u001b[0;31m---------------------------------------------------------------------------\u001b[0m",
      "\u001b[0;31mAttributeError\u001b[0m                            Traceback (most recent call last)",
      "\u001b[0;32m<ipython-input-1-d706126bdfa6>\u001b[0m in \u001b[0;36m<module>\u001b[0;34m\u001b[0m\n\u001b[0;32m----> 1\u001b[0;31m \u001b[0;32mimport\u001b[0m \u001b[0mtwitterscraper\u001b[0m\u001b[0;34m\u001b[0m\u001b[0;34m\u001b[0m\u001b[0m\n\u001b[0m",
      "\u001b[0;32m~/Library/Python/3.8/lib/python/site-packages/twitterscraper/__init__.py\u001b[0m in \u001b[0;36m<module>\u001b[0;34m\u001b[0m\n\u001b[1;32m     11\u001b[0m \u001b[0;34m\u001b[0m\u001b[0m\n\u001b[1;32m     12\u001b[0m \u001b[0;34m\u001b[0m\u001b[0m\n\u001b[0;32m---> 13\u001b[0;31m \u001b[0;32mfrom\u001b[0m \u001b[0mtwitterscraper\u001b[0m\u001b[0;34m.\u001b[0m\u001b[0mquery\u001b[0m \u001b[0;32mimport\u001b[0m \u001b[0mquery_tweets\u001b[0m\u001b[0;34m\u001b[0m\u001b[0;34m\u001b[0m\u001b[0m\n\u001b[0m\u001b[1;32m     14\u001b[0m \u001b[0;32mfrom\u001b[0m \u001b[0mtwitterscraper\u001b[0m\u001b[0;34m.\u001b[0m\u001b[0mquery\u001b[0m \u001b[0;32mimport\u001b[0m \u001b[0mquery_tweets_from_user\u001b[0m\u001b[0;34m\u001b[0m\u001b[0;34m\u001b[0m\u001b[0m\n\u001b[1;32m     15\u001b[0m \u001b[0;32mfrom\u001b[0m \u001b[0mtwitterscraper\u001b[0m\u001b[0;34m.\u001b[0m\u001b[0mquery\u001b[0m \u001b[0;32mimport\u001b[0m \u001b[0mquery_user_info\u001b[0m\u001b[0;34m\u001b[0m\u001b[0;34m\u001b[0m\u001b[0m\n",
      "\u001b[0;32m~/Library/Python/3.8/lib/python/site-packages/twitterscraper/query.py\u001b[0m in \u001b[0;36m<module>\u001b[0;34m\u001b[0m\n\u001b[1;32m     74\u001b[0m         \u001b[0;32myield\u001b[0m \u001b[0mstart\u001b[0m \u001b[0;34m+\u001b[0m \u001b[0mh\u001b[0m \u001b[0;34m*\u001b[0m \u001b[0mi\u001b[0m\u001b[0;34m\u001b[0m\u001b[0;34m\u001b[0m\u001b[0m\n\u001b[1;32m     75\u001b[0m \u001b[0;34m\u001b[0m\u001b[0m\n\u001b[0;32m---> 76\u001b[0;31m \u001b[0mproxies\u001b[0m \u001b[0;34m=\u001b[0m \u001b[0mget_proxies\u001b[0m\u001b[0;34m(\u001b[0m\u001b[0;34m)\u001b[0m\u001b[0;34m\u001b[0m\u001b[0;34m\u001b[0m\u001b[0m\n\u001b[0m\u001b[1;32m     77\u001b[0m \u001b[0mproxy_pool\u001b[0m \u001b[0;34m=\u001b[0m \u001b[0mcycle\u001b[0m\u001b[0;34m(\u001b[0m\u001b[0mproxies\u001b[0m\u001b[0;34m)\u001b[0m\u001b[0;34m\u001b[0m\u001b[0;34m\u001b[0m\u001b[0m\n\u001b[1;32m     78\u001b[0m \u001b[0;34m\u001b[0m\u001b[0m\n",
      "\u001b[0;32m~/Library/Python/3.8/lib/python/site-packages/twitterscraper/query.py\u001b[0m in \u001b[0;36mget_proxies\u001b[0;34m()\u001b[0m\n\u001b[1;32m     47\u001b[0m     \u001b[0msoup\u001b[0m \u001b[0;34m=\u001b[0m \u001b[0mBeautifulSoup\u001b[0m\u001b[0;34m(\u001b[0m\u001b[0mresponse\u001b[0m\u001b[0;34m.\u001b[0m\u001b[0mtext\u001b[0m\u001b[0;34m,\u001b[0m \u001b[0;34m'lxml'\u001b[0m\u001b[0;34m)\u001b[0m\u001b[0;34m\u001b[0m\u001b[0;34m\u001b[0m\u001b[0m\n\u001b[1;32m     48\u001b[0m     \u001b[0mtable\u001b[0m \u001b[0;34m=\u001b[0m \u001b[0msoup\u001b[0m\u001b[0;34m.\u001b[0m\u001b[0mfind\u001b[0m\u001b[0;34m(\u001b[0m\u001b[0;34m'table'\u001b[0m\u001b[0;34m,\u001b[0m\u001b[0mid\u001b[0m\u001b[0;34m=\u001b[0m\u001b[0;34m'proxylisttable'\u001b[0m\u001b[0;34m)\u001b[0m\u001b[0;34m\u001b[0m\u001b[0;34m\u001b[0m\u001b[0m\n\u001b[0;32m---> 49\u001b[0;31m     \u001b[0mlist_tr\u001b[0m \u001b[0;34m=\u001b[0m \u001b[0mtable\u001b[0m\u001b[0;34m.\u001b[0m\u001b[0mfind_all\u001b[0m\u001b[0;34m(\u001b[0m\u001b[0;34m'tr'\u001b[0m\u001b[0;34m)\u001b[0m\u001b[0;34m\u001b[0m\u001b[0;34m\u001b[0m\u001b[0m\n\u001b[0m\u001b[1;32m     50\u001b[0m     \u001b[0mlist_td\u001b[0m \u001b[0;34m=\u001b[0m \u001b[0;34m[\u001b[0m\u001b[0melem\u001b[0m\u001b[0;34m.\u001b[0m\u001b[0mfind_all\u001b[0m\u001b[0;34m(\u001b[0m\u001b[0;34m'td'\u001b[0m\u001b[0;34m)\u001b[0m \u001b[0;32mfor\u001b[0m \u001b[0melem\u001b[0m \u001b[0;32min\u001b[0m \u001b[0mlist_tr\u001b[0m\u001b[0;34m]\u001b[0m\u001b[0;34m\u001b[0m\u001b[0;34m\u001b[0m\u001b[0m\n\u001b[1;32m     51\u001b[0m     \u001b[0mlist_td\u001b[0m \u001b[0;34m=\u001b[0m \u001b[0mlist\u001b[0m\u001b[0;34m(\u001b[0m\u001b[0mfilter\u001b[0m\u001b[0;34m(\u001b[0m\u001b[0;32mNone\u001b[0m\u001b[0;34m,\u001b[0m \u001b[0mlist_td\u001b[0m\u001b[0;34m)\u001b[0m\u001b[0;34m)\u001b[0m\u001b[0;34m\u001b[0m\u001b[0;34m\u001b[0m\u001b[0m\n",
      "\u001b[0;31mAttributeError\u001b[0m: 'NoneType' object has no attribute 'find_all'"
     ]
    }
   ],
   "source": [
    "import twitterscraper "
   ]
  },
  {
   "cell_type": "code",
   "execution_count": 2,
   "id": "rental-hazard",
   "metadata": {},
   "outputs": [
    {
     "ename": "AttributeError",
     "evalue": "'NoneType' object has no attribute 'find_all'",
     "output_type": "error",
     "traceback": [
      "\u001b[0;31m---------------------------------------------------------------------------\u001b[0m",
      "\u001b[0;31mAttributeError\u001b[0m                            Traceback (most recent call last)",
      "\u001b[0;32m<ipython-input-2-6e404339fcf2>\u001b[0m in \u001b[0;36m<module>\u001b[0;34m\u001b[0m\n\u001b[0;32m----> 1\u001b[0;31m \u001b[0;32mimport\u001b[0m \u001b[0mtwitterscraper\u001b[0m\u001b[0;34m\u001b[0m\u001b[0;34m\u001b[0m\u001b[0m\n\u001b[0m\u001b[1;32m      2\u001b[0m \u001b[0;32mimport\u001b[0m \u001b[0mpandas\u001b[0m \u001b[0;32mas\u001b[0m \u001b[0mpd\u001b[0m\u001b[0;34m\u001b[0m\u001b[0;34m\u001b[0m\u001b[0m\n\u001b[1;32m      3\u001b[0m \u001b[0;32mimport\u001b[0m \u001b[0mtweepy\u001b[0m\u001b[0;34m\u001b[0m\u001b[0;34m\u001b[0m\u001b[0m\n\u001b[1;32m      4\u001b[0m \u001b[0;32mimport\u001b[0m \u001b[0mdatetime\u001b[0m \u001b[0;32mas\u001b[0m \u001b[0mdt\u001b[0m\u001b[0;34m\u001b[0m\u001b[0;34m\u001b[0m\u001b[0m\n",
      "\u001b[0;32m~/Library/Python/3.8/lib/python/site-packages/twitterscraper/__init__.py\u001b[0m in \u001b[0;36m<module>\u001b[0;34m\u001b[0m\n\u001b[1;32m     11\u001b[0m \u001b[0;34m\u001b[0m\u001b[0m\n\u001b[1;32m     12\u001b[0m \u001b[0;34m\u001b[0m\u001b[0m\n\u001b[0;32m---> 13\u001b[0;31m \u001b[0;32mfrom\u001b[0m \u001b[0mtwitterscraper\u001b[0m\u001b[0;34m.\u001b[0m\u001b[0mquery\u001b[0m \u001b[0;32mimport\u001b[0m \u001b[0mquery_tweets\u001b[0m\u001b[0;34m\u001b[0m\u001b[0;34m\u001b[0m\u001b[0m\n\u001b[0m\u001b[1;32m     14\u001b[0m \u001b[0;32mfrom\u001b[0m \u001b[0mtwitterscraper\u001b[0m\u001b[0;34m.\u001b[0m\u001b[0mquery\u001b[0m \u001b[0;32mimport\u001b[0m \u001b[0mquery_tweets_from_user\u001b[0m\u001b[0;34m\u001b[0m\u001b[0;34m\u001b[0m\u001b[0m\n\u001b[1;32m     15\u001b[0m \u001b[0;32mfrom\u001b[0m \u001b[0mtwitterscraper\u001b[0m\u001b[0;34m.\u001b[0m\u001b[0mquery\u001b[0m \u001b[0;32mimport\u001b[0m \u001b[0mquery_user_info\u001b[0m\u001b[0;34m\u001b[0m\u001b[0;34m\u001b[0m\u001b[0m\n",
      "\u001b[0;32m~/Library/Python/3.8/lib/python/site-packages/twitterscraper/query.py\u001b[0m in \u001b[0;36m<module>\u001b[0;34m\u001b[0m\n\u001b[1;32m     74\u001b[0m         \u001b[0;32myield\u001b[0m \u001b[0mstart\u001b[0m \u001b[0;34m+\u001b[0m \u001b[0mh\u001b[0m \u001b[0;34m*\u001b[0m \u001b[0mi\u001b[0m\u001b[0;34m\u001b[0m\u001b[0;34m\u001b[0m\u001b[0m\n\u001b[1;32m     75\u001b[0m \u001b[0;34m\u001b[0m\u001b[0m\n\u001b[0;32m---> 76\u001b[0;31m \u001b[0mproxies\u001b[0m \u001b[0;34m=\u001b[0m \u001b[0mget_proxies\u001b[0m\u001b[0;34m(\u001b[0m\u001b[0;34m)\u001b[0m\u001b[0;34m\u001b[0m\u001b[0;34m\u001b[0m\u001b[0m\n\u001b[0m\u001b[1;32m     77\u001b[0m \u001b[0mproxy_pool\u001b[0m \u001b[0;34m=\u001b[0m \u001b[0mcycle\u001b[0m\u001b[0;34m(\u001b[0m\u001b[0mproxies\u001b[0m\u001b[0;34m)\u001b[0m\u001b[0;34m\u001b[0m\u001b[0;34m\u001b[0m\u001b[0m\n\u001b[1;32m     78\u001b[0m \u001b[0;34m\u001b[0m\u001b[0m\n",
      "\u001b[0;32m~/Library/Python/3.8/lib/python/site-packages/twitterscraper/query.py\u001b[0m in \u001b[0;36mget_proxies\u001b[0;34m()\u001b[0m\n\u001b[1;32m     47\u001b[0m     \u001b[0msoup\u001b[0m \u001b[0;34m=\u001b[0m \u001b[0mBeautifulSoup\u001b[0m\u001b[0;34m(\u001b[0m\u001b[0mresponse\u001b[0m\u001b[0;34m.\u001b[0m\u001b[0mtext\u001b[0m\u001b[0;34m,\u001b[0m \u001b[0;34m'lxml'\u001b[0m\u001b[0;34m)\u001b[0m\u001b[0;34m\u001b[0m\u001b[0;34m\u001b[0m\u001b[0m\n\u001b[1;32m     48\u001b[0m     \u001b[0mtable\u001b[0m \u001b[0;34m=\u001b[0m \u001b[0msoup\u001b[0m\u001b[0;34m.\u001b[0m\u001b[0mfind\u001b[0m\u001b[0;34m(\u001b[0m\u001b[0;34m'table'\u001b[0m\u001b[0;34m,\u001b[0m\u001b[0mid\u001b[0m\u001b[0;34m=\u001b[0m\u001b[0;34m'proxylisttable'\u001b[0m\u001b[0;34m)\u001b[0m\u001b[0;34m\u001b[0m\u001b[0;34m\u001b[0m\u001b[0m\n\u001b[0;32m---> 49\u001b[0;31m     \u001b[0mlist_tr\u001b[0m \u001b[0;34m=\u001b[0m \u001b[0mtable\u001b[0m\u001b[0;34m.\u001b[0m\u001b[0mfind_all\u001b[0m\u001b[0;34m(\u001b[0m\u001b[0;34m'tr'\u001b[0m\u001b[0;34m)\u001b[0m\u001b[0;34m\u001b[0m\u001b[0;34m\u001b[0m\u001b[0m\n\u001b[0m\u001b[1;32m     50\u001b[0m     \u001b[0mlist_td\u001b[0m \u001b[0;34m=\u001b[0m \u001b[0;34m[\u001b[0m\u001b[0melem\u001b[0m\u001b[0;34m.\u001b[0m\u001b[0mfind_all\u001b[0m\u001b[0;34m(\u001b[0m\u001b[0;34m'td'\u001b[0m\u001b[0;34m)\u001b[0m \u001b[0;32mfor\u001b[0m \u001b[0melem\u001b[0m \u001b[0;32min\u001b[0m \u001b[0mlist_tr\u001b[0m\u001b[0;34m]\u001b[0m\u001b[0;34m\u001b[0m\u001b[0;34m\u001b[0m\u001b[0m\n\u001b[1;32m     51\u001b[0m     \u001b[0mlist_td\u001b[0m \u001b[0;34m=\u001b[0m \u001b[0mlist\u001b[0m\u001b[0;34m(\u001b[0m\u001b[0mfilter\u001b[0m\u001b[0;34m(\u001b[0m\u001b[0;32mNone\u001b[0m\u001b[0;34m,\u001b[0m \u001b[0mlist_td\u001b[0m\u001b[0;34m)\u001b[0m\u001b[0;34m)\u001b[0m\u001b[0;34m\u001b[0m\u001b[0;34m\u001b[0m\u001b[0m\n",
      "\u001b[0;31mAttributeError\u001b[0m: 'NoneType' object has no attribute 'find_all'"
     ]
    }
   ],
   "source": [
    "import twitterscraper\n",
    "import pandas as pd\n",
    "import tweepy\n",
    "import datetime as dt"
   ]
  },
  {
   "cell_type": "code",
   "execution_count": 52,
   "id": "asian-hawaiian",
   "metadata": {},
   "outputs": [],
   "source": [
    "df_apple = pd.read_csv('/Users/divyamrana/Documents/Research Data/Apple_5years_clean.csv')\n",
    "df_cisco = pd.read_csv('/Users/divyamrana/Documents/Research Data/Cisco/cisco.csv')"
   ]
  },
  {
   "cell_type": "code",
   "execution_count": 53,
   "id": "prime-chair",
   "metadata": {},
   "outputs": [
    {
     "data": {
      "text/html": [
       "<div>\n",
       "<style scoped>\n",
       "    .dataframe tbody tr th:only-of-type {\n",
       "        vertical-align: middle;\n",
       "    }\n",
       "\n",
       "    .dataframe tbody tr th {\n",
       "        vertical-align: top;\n",
       "    }\n",
       "\n",
       "    .dataframe thead th {\n",
       "        text-align: right;\n",
       "    }\n",
       "</style>\n",
       "<table border=\"1\" class=\"dataframe\">\n",
       "  <thead>\n",
       "    <tr style=\"text-align: right;\">\n",
       "      <th></th>\n",
       "      <th>Date</th>\n",
       "      <th>Close/Last</th>\n",
       "      <th>Volume</th>\n",
       "      <th>Open</th>\n",
       "      <th>High</th>\n",
       "      <th>Low</th>\n",
       "    </tr>\n",
       "  </thead>\n",
       "  <tbody>\n",
       "    <tr>\n",
       "      <th>0</th>\n",
       "      <td>07/30/2021</td>\n",
       "      <td>$55.37</td>\n",
       "      <td>13438790</td>\n",
       "      <td>$55.08</td>\n",
       "      <td>$55.49</td>\n",
       "      <td>$55.01</td>\n",
       "    </tr>\n",
       "    <tr>\n",
       "      <th>1</th>\n",
       "      <td>07/29/2021</td>\n",
       "      <td>$55.07</td>\n",
       "      <td>10680230</td>\n",
       "      <td>$55</td>\n",
       "      <td>$55.35</td>\n",
       "      <td>$54.9</td>\n",
       "    </tr>\n",
       "    <tr>\n",
       "      <th>2</th>\n",
       "      <td>07/28/2021</td>\n",
       "      <td>$54.77</td>\n",
       "      <td>18835700</td>\n",
       "      <td>$55.46</td>\n",
       "      <td>$55.52</td>\n",
       "      <td>$54.41</td>\n",
       "    </tr>\n",
       "    <tr>\n",
       "      <th>3</th>\n",
       "      <td>07/27/2021</td>\n",
       "      <td>$55.28</td>\n",
       "      <td>14738680</td>\n",
       "      <td>$55.38</td>\n",
       "      <td>$55.41</td>\n",
       "      <td>$54.79</td>\n",
       "    </tr>\n",
       "    <tr>\n",
       "      <th>4</th>\n",
       "      <td>07/26/2021</td>\n",
       "      <td>$55.47</td>\n",
       "      <td>10097440</td>\n",
       "      <td>$55.1315</td>\n",
       "      <td>$55.65</td>\n",
       "      <td>$55.1315</td>\n",
       "    </tr>\n",
       "    <tr>\n",
       "      <th>...</th>\n",
       "      <td>...</td>\n",
       "      <td>...</td>\n",
       "      <td>...</td>\n",
       "      <td>...</td>\n",
       "      <td>...</td>\n",
       "      <td>...</td>\n",
       "    </tr>\n",
       "    <tr>\n",
       "      <th>1254</th>\n",
       "      <td>08/05/2016</td>\n",
       "      <td>$31.04</td>\n",
       "      <td>18836710</td>\n",
       "      <td>$30.9</td>\n",
       "      <td>$31.07</td>\n",
       "      <td>$30.69</td>\n",
       "    </tr>\n",
       "    <tr>\n",
       "      <th>1255</th>\n",
       "      <td>08/04/2016</td>\n",
       "      <td>$30.8</td>\n",
       "      <td>18520200</td>\n",
       "      <td>$30.78</td>\n",
       "      <td>$30.91</td>\n",
       "      <td>$30.71</td>\n",
       "    </tr>\n",
       "    <tr>\n",
       "      <th>1256</th>\n",
       "      <td>08/03/2016</td>\n",
       "      <td>$30.72</td>\n",
       "      <td>15960960</td>\n",
       "      <td>$30.51</td>\n",
       "      <td>$30.74</td>\n",
       "      <td>$30.51</td>\n",
       "    </tr>\n",
       "    <tr>\n",
       "      <th>1257</th>\n",
       "      <td>08/02/2016</td>\n",
       "      <td>$30.62</td>\n",
       "      <td>24482410</td>\n",
       "      <td>$30.82</td>\n",
       "      <td>$30.82</td>\n",
       "      <td>$30.395</td>\n",
       "    </tr>\n",
       "    <tr>\n",
       "      <th>1258</th>\n",
       "      <td>08/01/2016</td>\n",
       "      <td>$30.73</td>\n",
       "      <td>22424350</td>\n",
       "      <td>$30.7</td>\n",
       "      <td>$30.75</td>\n",
       "      <td>$30.36</td>\n",
       "    </tr>\n",
       "  </tbody>\n",
       "</table>\n",
       "<p>1259 rows × 6 columns</p>\n",
       "</div>"
      ],
      "text/plain": [
       "            Date Close/Last    Volume      Open    High       Low\n",
       "0     07/30/2021     $55.37  13438790    $55.08  $55.49    $55.01\n",
       "1     07/29/2021     $55.07  10680230       $55  $55.35     $54.9\n",
       "2     07/28/2021     $54.77  18835700    $55.46  $55.52    $54.41\n",
       "3     07/27/2021     $55.28  14738680    $55.38  $55.41    $54.79\n",
       "4     07/26/2021     $55.47  10097440  $55.1315  $55.65  $55.1315\n",
       "...          ...        ...       ...       ...     ...       ...\n",
       "1254  08/05/2016     $31.04  18836710     $30.9  $31.07    $30.69\n",
       "1255  08/04/2016      $30.8  18520200    $30.78  $30.91    $30.71\n",
       "1256  08/03/2016     $30.72  15960960    $30.51  $30.74    $30.51\n",
       "1257  08/02/2016     $30.62  24482410    $30.82  $30.82   $30.395\n",
       "1258  08/01/2016     $30.73  22424350     $30.7  $30.75    $30.36\n",
       "\n",
       "[1259 rows x 6 columns]"
      ]
     },
     "execution_count": 53,
     "metadata": {},
     "output_type": "execute_result"
    }
   ],
   "source": [
    "df_cisco"
   ]
  },
  {
   "cell_type": "code",
   "execution_count": 38,
   "id": "sweet-female",
   "metadata": {},
   "outputs": [
    {
     "data": {
      "text/plain": [
       "Index(['Date', 'Close/Last', 'Volume', 'Open', 'High', 'Low', 'Unnamed: 6',\n",
       "       'Unnamed: 7', 'Unnamed: 8', 'Unnamed: 9', 'Unnamed: 10'],\n",
       "      dtype='object')"
      ]
     },
     "execution_count": 38,
     "metadata": {},
     "output_type": "execute_result"
    }
   ],
   "source": [
    "df_apple.columns"
   ]
  },
  {
   "cell_type": "code",
   "execution_count": 39,
   "id": "classical-christmas",
   "metadata": {},
   "outputs": [],
   "source": [
    "df_apple = df_apple[['Date','Close/Last', 'Volume', 'Open', 'High', 'Low']]"
   ]
  },
  {
   "cell_type": "code",
   "execution_count": 40,
   "id": "representative-horizontal",
   "metadata": {},
   "outputs": [
    {
     "data": {
      "text/html": [
       "<div>\n",
       "<style scoped>\n",
       "    .dataframe tbody tr th:only-of-type {\n",
       "        vertical-align: middle;\n",
       "    }\n",
       "\n",
       "    .dataframe tbody tr th {\n",
       "        vertical-align: top;\n",
       "    }\n",
       "\n",
       "    .dataframe thead th {\n",
       "        text-align: right;\n",
       "    }\n",
       "</style>\n",
       "<table border=\"1\" class=\"dataframe\">\n",
       "  <thead>\n",
       "    <tr style=\"text-align: right;\">\n",
       "      <th></th>\n",
       "      <th>Date</th>\n",
       "      <th>Close/Last</th>\n",
       "      <th>Volume</th>\n",
       "      <th>Open</th>\n",
       "      <th>High</th>\n",
       "      <th>Low</th>\n",
       "    </tr>\n",
       "  </thead>\n",
       "  <tbody>\n",
       "    <tr>\n",
       "      <th>0</th>\n",
       "      <td>07/30/2021</td>\n",
       "      <td>$145.86</td>\n",
       "      <td>70440630</td>\n",
       "      <td>$144.38</td>\n",
       "      <td>$146.33</td>\n",
       "      <td>$144.11</td>\n",
       "    </tr>\n",
       "    <tr>\n",
       "      <th>1</th>\n",
       "      <td>07/29/2021</td>\n",
       "      <td>$145.64</td>\n",
       "      <td>56699480</td>\n",
       "      <td>$144.69</td>\n",
       "      <td>$146.55</td>\n",
       "      <td>$144.58</td>\n",
       "    </tr>\n",
       "    <tr>\n",
       "      <th>2</th>\n",
       "      <td>07/28/2021</td>\n",
       "      <td>$144.98</td>\n",
       "      <td>118931200</td>\n",
       "      <td>$144.81</td>\n",
       "      <td>$146.97</td>\n",
       "      <td>$142.54</td>\n",
       "    </tr>\n",
       "    <tr>\n",
       "      <th>3</th>\n",
       "      <td>07/27/2021</td>\n",
       "      <td>$146.77</td>\n",
       "      <td>104818600</td>\n",
       "      <td>$149.12</td>\n",
       "      <td>$149.21</td>\n",
       "      <td>$145.55</td>\n",
       "    </tr>\n",
       "    <tr>\n",
       "      <th>4</th>\n",
       "      <td>07/26/2021</td>\n",
       "      <td>$148.99</td>\n",
       "      <td>72434090</td>\n",
       "      <td>$148.27</td>\n",
       "      <td>$149.83</td>\n",
       "      <td>$147.70</td>\n",
       "    </tr>\n",
       "    <tr>\n",
       "      <th>...</th>\n",
       "      <td>...</td>\n",
       "      <td>...</td>\n",
       "      <td>...</td>\n",
       "      <td>...</td>\n",
       "      <td>...</td>\n",
       "      <td>...</td>\n",
       "    </tr>\n",
       "    <tr>\n",
       "      <th>1254</th>\n",
       "      <td>08/05/2016</td>\n",
       "      <td>$26.87</td>\n",
       "      <td>158186440</td>\n",
       "      <td>$26.57</td>\n",
       "      <td>$26.91</td>\n",
       "      <td>$26.55</td>\n",
       "    </tr>\n",
       "    <tr>\n",
       "      <th>1255</th>\n",
       "      <td>08/04/2016</td>\n",
       "      <td>$26.47</td>\n",
       "      <td>107126920</td>\n",
       "      <td>$26.40</td>\n",
       "      <td>$26.50</td>\n",
       "      <td>$26.32</td>\n",
       "    </tr>\n",
       "    <tr>\n",
       "      <th>1256</th>\n",
       "      <td>08/03/2016</td>\n",
       "      <td>$26.45</td>\n",
       "      <td>120593440</td>\n",
       "      <td>$26.20</td>\n",
       "      <td>$26.46</td>\n",
       "      <td>$26.19</td>\n",
       "    </tr>\n",
       "    <tr>\n",
       "      <th>1257</th>\n",
       "      <td>08/02/2016</td>\n",
       "      <td>$26.12</td>\n",
       "      <td>135080880</td>\n",
       "      <td>$26.51</td>\n",
       "      <td>$26.52</td>\n",
       "      <td>$26.00</td>\n",
       "    </tr>\n",
       "    <tr>\n",
       "      <th>1258</th>\n",
       "      <td>08/01/2016</td>\n",
       "      <td>$26.51</td>\n",
       "      <td>152075640</td>\n",
       "      <td>$26.10</td>\n",
       "      <td>$26.54</td>\n",
       "      <td>$26.10</td>\n",
       "    </tr>\n",
       "  </tbody>\n",
       "</table>\n",
       "<p>1259 rows × 6 columns</p>\n",
       "</div>"
      ],
      "text/plain": [
       "            Date Close/Last     Volume     Open     High      Low\n",
       "0     07/30/2021    $145.86   70440630  $144.38  $146.33  $144.11\n",
       "1     07/29/2021    $145.64   56699480  $144.69  $146.55  $144.58\n",
       "2     07/28/2021    $144.98  118931200  $144.81  $146.97  $142.54\n",
       "3     07/27/2021    $146.77  104818600  $149.12  $149.21  $145.55\n",
       "4     07/26/2021    $148.99   72434090  $148.27  $149.83  $147.70\n",
       "...          ...        ...        ...      ...      ...      ...\n",
       "1254  08/05/2016     $26.87  158186440   $26.57   $26.91   $26.55\n",
       "1255  08/04/2016     $26.47  107126920   $26.40   $26.50   $26.32\n",
       "1256  08/03/2016     $26.45  120593440   $26.20   $26.46   $26.19\n",
       "1257  08/02/2016     $26.12  135080880   $26.51   $26.52   $26.00\n",
       "1258  08/01/2016     $26.51  152075640   $26.10   $26.54   $26.10\n",
       "\n",
       "[1259 rows x 6 columns]"
      ]
     },
     "execution_count": 40,
     "metadata": {},
     "output_type": "execute_result"
    }
   ],
   "source": [
    "df_apple"
   ]
  },
  {
   "cell_type": "code",
   "execution_count": 58,
   "id": "stuffed-tomato",
   "metadata": {},
   "outputs": [],
   "source": [
    "begin_date = dt.date(2016,8,1)"
   ]
  },
  {
   "cell_type": "code",
   "execution_count": 59,
   "id": "atmospheric-corner",
   "metadata": {},
   "outputs": [],
   "source": [
    "end_date = dt.date(2021,7,30)"
   ]
  },
  {
   "cell_type": "code",
   "execution_count": 60,
   "id": "known-munich",
   "metadata": {},
   "outputs": [],
   "source": [
    "lang = 'english'"
   ]
  },
  {
   "cell_type": "code",
   "execution_count": 61,
   "id": "powerful-terminology",
   "metadata": {},
   "outputs": [],
   "source": [
    "# API KEY : ITmgpljooI4EsnrRg5qehi9Hk\n",
    "# API SECRET KEY : 5DC7rh4epQ136IbJhCtLggdZuJ0nC51LYX1uVBQc0nm7ABCKmI\n",
    "# BEARER TOKEN : AAAAAAAAAAAAAAAAAAAAAGP6SAEAAAAAP1%2B4SNA4um4iOG0fPBLSKG77XrE%3DW7tqjZAAdPH18aksS2nrUkxjxQDqy8wLUlAM5S2jCxjB1Hmf3k"
   ]
  },
  {
   "cell_type": "code",
   "execution_count": 62,
   "id": "rapid-happiness",
   "metadata": {},
   "outputs": [],
   "source": [
    "consumer_key = \"ITmgpljooI4EsnrRg5qehi9Hk\"\n",
    "consumer_secret = \"5DC7rh4epQ136IbJhCtLggdZuJ0nC51LYX1uVBQc0nm7ABCKmI\"\n",
    "access_token = \"1421648405026144256-NIiNb9AjBwPGYlLEJeE4EvjgCSAXZo\"\n",
    "access_token_secret = \"7cylqP3cCeE1mEaocvPgOu2mNTFKab5eFP0DgAOkqbqwf\""
   ]
  },
  {
   "cell_type": "code",
   "execution_count": 63,
   "id": "korean-fence",
   "metadata": {},
   "outputs": [],
   "source": [
    "auth = tweepy.OAuthHandler(consumer_key, consumer_secret)\n",
    "auth.set_access_token(access_token, access_token_secret)\n",
    "api = tweepy.API(auth,wait_on_rate_limit=True)"
   ]
  },
  {
   "cell_type": "code",
   "execution_count": 77,
   "id": "constant-circulation",
   "metadata": {},
   "outputs": [],
   "source": [
    "until_date = '2021-07-23'\n",
    "username = 'Cisco'\n",
    "max_tweets = 15000\n",
    "tweets = tweepy.Cursor(api.user_timeline, id=username, until = until_date, tweet_mode='extended').items(max_tweets)"
   ]
  },
  {
   "cell_type": "code",
   "execution_count": 78,
   "id": "durable-finance",
   "metadata": {},
   "outputs": [],
   "source": [
    "tweets_list = [[tweet.full_text, tweet.created_at, tweet.retweet_count, tweet.favorite_count, tweet.lang, tweet.source, tweet.in_reply_to_status_id_str, tweet.in_reply_to_user_id_str, tweet.is_quote_status,  tweet.user.followers_count] for tweet in tweets]\n",
    " \n",
    "# Creation of dataframe from tweets_list\n",
    "# Add or remove columns as you remove tweet information\n",
    "tweets_df = pd.DataFrame(tweets_list,columns=['Tweet Text', 'Tweet Datetime', 'Retweets', 'Favorites', 'Language', 'Source', 'Replied Tweet Id', 'Replied Tweet User Id Str', 'Quote Status Bool', 'Follower Count'])\n"
   ]
  },
  {
   "cell_type": "code",
   "execution_count": 80,
   "id": "generous-speech",
   "metadata": {},
   "outputs": [
    {
     "data": {
      "text/plain": [
       "Sprinklr                    2486\n",
       "Twitter Web App              603\n",
       "Twitter for iPhone           122\n",
       "Twitter for Advertisers        3\n",
       "Twitter for Advertisers.       3\n",
       "Twitter Media Studio           3\n",
       "Name: Source, dtype: int64"
      ]
     },
     "execution_count": 80,
     "metadata": {},
     "output_type": "execute_result"
    }
   ],
   "source": [
    "tweets_df['Source'].value_counts()"
   ]
  },
  {
   "cell_type": "code",
   "execution_count": 73,
   "id": "crazy-preview",
   "metadata": {},
   "outputs": [],
   "source": [
    "tweets_df.to_csv('Cisco.csv')"
   ]
  },
  {
   "cell_type": "code",
   "execution_count": null,
   "id": "numerical-tribune",
   "metadata": {},
   "outputs": [],
   "source": []
  }
 ],
 "metadata": {
  "interpreter": {
   "hash": "5edc29c2ed010d6458d71a83433b383a96a8cbd3efe8531bc90c4b8a5b8bcec9"
  },
  "kernelspec": {
   "display_name": "Python 3.8.2 64-bit",
   "name": "python3"
  },
  "language_info": {
   "codemirror_mode": {
    "name": "ipython",
    "version": 3
   },
   "file_extension": ".py",
   "mimetype": "text/x-python",
   "name": "python",
   "nbconvert_exporter": "python",
   "pygments_lexer": "ipython3",
   "version": "3.8.2"
  }
 },
 "nbformat": 4,
 "nbformat_minor": 5
}

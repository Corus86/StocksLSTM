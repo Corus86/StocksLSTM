{
 "cells": [
  {
   "cell_type": "code",
   "execution_count": 54,
   "id": "invalid-business",
   "metadata": {},
   "outputs": [],
   "source": [
    "import pandas as pd\n",
    "import datetime as dt\n",
    "import tweepy"
   ]
  },
  {
   "cell_type": "code",
   "execution_count": 55,
   "id": "ambient-harvest",
   "metadata": {},
   "outputs": [],
   "source": [
    "consumer_key = \"ITmgpljooI4EsnrRg5qehi9Hk\"\n",
    "consumer_secret = \"5DC7rh4epQ136IbJhCtLggdZuJ0nC51LYX1uVBQc0nm7ABCKmI\"\n",
    "access_token = \"1421648405026144256-NIiNb9AjBwPGYlLEJeE4EvjgCSAXZo\"\n",
    "access_token_secret = \"7cylqP3cCeE1mEaocvPgOu2mNTFKab5eFP0DgAOkqbqwf\""
   ]
  }
 ],
 "metadata": {
  "interpreter": {
   "hash": "31f2aee4e71d21fbe5cf8b01ff0e069b9275f58929596ceb00d14d90e3e16cd6"
  },
  "kernelspec": {
   "display_name": "Python 3.8.2 64-bit",
   "name": "python3"
  },
  "language_info": {
   "codemirror_mode": {
    "name": "ipython",
    "version": 3
   },
   "file_extension": ".py",
   "mimetype": "text/x-python",
   "name": "python",
   "nbconvert_exporter": "python",
   "pygments_lexer": "ipython3",
   "version": "3.8.2"
  }
 },
 "nbformat": 4,
 "nbformat_minor": 5
}
